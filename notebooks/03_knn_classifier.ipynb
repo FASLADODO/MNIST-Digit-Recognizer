{
 "cells": [
  {
   "cell_type": "markdown",
   "metadata": {},
   "source": [
    "# Build KNN Classifier Models\n",
    "\n",
    "## Import Processed Data"
   ]
  },
  {
   "cell_type": "code",
   "execution_count": 5,
   "metadata": {},
   "outputs": [],
   "source": [
    "import pandas as pd\n",
    "import os\n",
    "import numpy as np\n",
    "import pickle\n",
    "from sklearn.decomposition import PCA\n",
    "from sklearn.neighbors import KNeighborsClassifier\n",
    "from sklearn.model_selection import cross_val_score\n",
    "from sklearn.model_selection import GridSearchCV"
   ]
  },
  {
   "cell_type": "code",
   "execution_count": 6,
   "metadata": {},
   "outputs": [],
   "source": [
    "# set path of the processed data\n",
    "processed_data_path = os.path.join(os.path.pardir, 'data', 'processed')\n",
    "train_processed_file_path = os.path.join(processed_data_path, 'train_processed.csv')\n",
    "test_processed_file_path = os.path.join(processed_data_path, 'test_processed.csv')\n",
    "unlabeled_processed_file_path = os.path.join(processed_data_path, 'unlabeled_processed.csv')\n",
    "\n",
    "# create data frames for train, test, and unlabled data\n",
    "train_df = pd.read_csv(train_processed_file_path, index_col = 'ImageId')\n",
    "test_df = pd.read_csv(test_processed_file_path, index_col = 'ImageId')\n",
    "unlabeled_df = pd.read_csv(unlabeled_processed_file_path, index_col = 'ImageId')"
   ]
  },
  {
   "cell_type": "code",
   "execution_count": 7,
   "metadata": {},
   "outputs": [],
   "source": [
    "# in the train and test data, X contains all the columns except 'label'\n",
    "# y is 'label'\n",
    "X_train = train_df.drop(['label'], axis = 1)\n",
    "y_train = train_df['label']\n",
    "X_test = test_df.drop(['label'], axis = 1)\n",
    "y_test = test_df['label']"
   ]
  },
  {
   "cell_type": "markdown",
   "metadata": {},
   "source": [
    "## PCA"
   ]
  },
  {
   "cell_type": "code",
   "execution_count": 8,
   "metadata": {},
   "outputs": [
    {
     "data": {
      "image/png": "[encoded data removed]",
      "text/plain": [
       "<Figure size 432x288 with 1 Axes>"
      ]
     },
     "metadata": {},
     "output_type": "display_data"
    }
   ],
   "source": [
    "# let's look at how explained variance ratio varies with number of components\n",
    "import matplotlib.pyplot as plt\n",
    "%matplotlib inline\n",
    "\n",
    "pca = PCA()\n",
    "pca.fit(X_train)\n",
    "\n",
    "plt.plot(pca.explained_variance_ratio_)\n",
    "plt.xlabel('Number of Components')\n",
    "plt.ylabel('Explained Variance Ratio')\n",
    "plt.show()"
   ]
  },
  {
   "cell_type": "code",
   "execution_count": 9,
   "metadata": {},
   "outputs": [],
   "source": [
    "# it looks like we can get away with using about 50 components\n",
    "pca = PCA(n_components = 50).fit(X_train)\n",
    "X_train_pca = pca.transform(X_train)\n",
    "X_test_pca = pca.transform(X_test)\n",
    "unlabeled_pca = pca.transform(unlabeled_df)"
   ]
  },
  {
   "cell_type": "markdown",
   "metadata": {},
   "source": [
    "## Default KNN Classifier (with PCA)"
   ]
  },
  {
   "cell_type": "code",
   "execution_count": 10,
   "metadata": {},
   "outputs": [
    {
     "name": "stdout",
     "output_type": "stream",
     "text": [
      "0.9705954098325786 \n",
      "\n",
      "CV Accuracy: 0.97 +/- 0.00 \n",
      "\n",
      "[0.96862454 0.97381342 0.96859652 0.97171777 0.9702248 ]\n"
     ]
    }
   ],
   "source": [
    "# use 5-fold CV to evaluate accuracy with pca-train data\n",
    "model = KNeighborsClassifier()\n",
    "scores = cross_val_score(model, X_train_pca, y_train, cv = 5)\n",
    "print(scores.mean(), '\\n')\n",
    "\n",
    "print(\"CV Accuracy: %0.2f +/- %0.2f\" % (scores.mean(), 2 * scores.std()), '\\n')\n",
    "print(scores)"
   ]
  },
  {
   "cell_type": "markdown",
   "metadata": {},
   "source": [
    "## Tuned KNN Classifier (with PCA)"
   ]
  },
  {
   "cell_type": "code",
   "execution_count": 20,
   "metadata": {},
   "outputs": [],
   "source": [
    "#\n",
    "#  SKIP THIS: TAKES TOO LONG ON MY LAPTOP\n",
    "#\n",
    "# define the parameter values that will be considered\n",
    "num_of_neighbors = [3, 4, 5, 6, 7,]\n",
    "weights = ['uniform', 'distance']\n",
    "params = {'n_neighbors' : num_of_neighbors,\n",
    "          'weights' : weights}\n",
    "\n",
    "# used to evaluate all possible combinations with 5-fold cross-validation\n",
    "grid_search = GridSearchCV(KNeighborsClassifier(),\n",
    "                           param_grid = params,\n",
    "                           cv = 5,\n",
    "                           refit = True,\n",
    "                           return_train_score = True)\n",
    "\n",
    "# fit\n",
    "grid_search.fit(X_train_pca, y_train)\n",
    "\n",
    "# return the optimal combo of parameters and its score\n",
    "print(grid_search.best_params_, '\\n')\n",
    "print(grid_search.best_score_)"
   ]
  },
  {
   "cell_type": "markdown",
   "metadata": {},
   "source": [
    "Because a decent grid search takes so much time on my laptop, I just set the hyperparameter values myself and recorded the CV scores. Here is the best combination I could find:"
   ]
  },
  {
   "cell_type": "code",
   "execution_count": 11,
   "metadata": {},
   "outputs": [
    {
     "name": "stdout",
     "output_type": "stream",
     "text": [
      "0.9736905377736939 \n",
      "\n",
      "CV Accuracy: 0.97 +/- 0.00 \n",
      "\n",
      "[0.97189591 0.97812825 0.97082899 0.97395058 0.97364895]\n"
     ]
    }
   ],
   "source": [
    "# use 5-fold CV to evaluate accuracy with pca-train data\n",
    "model = KNeighborsClassifier(n_neighbors = 4, weights = 'distance')\n",
    "scores = cross_val_score(model, X_train_pca, y_train, cv = 5)\n",
    "print(scores.mean(), '\\n')\n",
    "\n",
    "print(\"CV Accuracy: %0.2f +/- %0.2f\" % (scores.mean(), 2 * scores.std()), '\\n')\n",
    "print(scores)"
   ]
  },
  {
   "cell_type": "markdown",
   "metadata": {},
   "source": [
    "## Kaggle Score: 0.97385\n",
    "\n",
    "Before we \"go live\" with this model (i.e., submit its predictions to Kaggle), let's check how it performs on the test data, data that it has never seen and had no influence on its selection:"
   ]
  },
  {
   "cell_type": "code",
   "execution_count": 12,
   "metadata": {},
   "outputs": [
    {
     "name": "stdout",
     "output_type": "stream",
     "text": [
      "Tuned KNN (w/PCA) Accuracy: 0.974405\n"
     ]
    }
   ],
   "source": [
    "# fit model to entire train set\n",
    "model = KNeighborsClassifier(n_neighbors = 4,\n",
    "                             weights = 'distance').fit(X_train_pca, y_train)\n",
    "\n",
    "# evaluate accuracy on test set\n",
    "print('Tuned KNN (w/PCA) Accuracy: ' + '{0:2f}'.format(model.score(X_test_pca, y_test)))"
   ]
  },
  {
   "cell_type": "markdown",
   "metadata": {},
   "source": [
    "Looks good, make the submission to Kaggle."
   ]
  },
  {
   "cell_type": "code",
   "execution_count": 13,
   "metadata": {},
   "outputs": [],
   "source": [
    "# generate predictions\n",
    "predictions = model.predict(unlabeled_pca)\n",
    "\n",
    "# create a new data frame with two columns: ImageId and our predicted values for 'label'\n",
    "submission_df = pd.DataFrame({'ImageId' : unlabeled_df.index, 'label' : predictions})\n",
    "\n",
    "# write submission to disk...\n",
    "# first define paths\n",
    "submission_data_path = os.path.join(os.path.pardir, 'data', 'external')\n",
    "submission_file_path = os.path.join(submission_data_path, 'knn_with_pca.csv')\n",
    "\n",
    "# create the .csv file\n",
    "# index is False since we don't want a third column\n",
    "submission_df.to_csv(submission_file_path, index = False)"
   ]
  },
  {
   "cell_type": "markdown",
   "metadata": {},
   "source": [
    "## Model Persistence"
   ]
  },
  {
   "cell_type": "code",
   "execution_count": 14,
   "metadata": {},
   "outputs": [],
   "source": [
    "# create file paths\n",
    "pca_file_path = os.path.join(os.path.pardir, 'models', 'pca_50.pkl')\n",
    "model_file_path = os.path.join(os.path.pardir, 'models', 'knn_model.pkl')"
   ]
  },
  {
   "cell_type": "code",
   "execution_count": 15,
   "metadata": {},
   "outputs": [],
   "source": [
    "# open files to write (in binary format)\n",
    "pca_file_pickle = open(pca_file_path, 'wb')\n",
    "model_file_pickle = open(model_file_path, 'wb')"
   ]
  },
  {
   "cell_type": "code",
   "execution_count": 16,
   "metadata": {},
   "outputs": [],
   "source": [
    "# persist the model and pca\n",
    "pickle.dump(pca, pca_file_pickle)\n",
    "pickle.dump(model, model_file_pickle)"
   ]
  },
  {
   "cell_type": "code",
   "execution_count": 17,
   "metadata": {},
   "outputs": [],
   "source": [
    "# close the files\n",
    "pca_file_pickle.close()\n",
    "model_file_pickle.close()"
   ]
  },
  {
   "cell_type": "markdown",
   "metadata": {},
   "source": [
    "## Optional: Check the persisted model"
   ]
  },
  {
   "cell_type": "code",
   "execution_count": 19,
   "metadata": {},
   "outputs": [],
   "source": [
    "# create file paths\n",
    "pca_file_path = os.path.join(os.path.pardir, 'models', 'pca_50.pkl')\n",
    "model_file_path = os.path.join(os.path.pardir, 'models', 'knn_model.pkl')\n",
    "\n",
    "# open files in read mode\n",
    "pca_file_pickle = open(pca_file_path, 'rb')\n",
    "model_file_pickle = open(model_file_path, 'rb')\n",
    "\n",
    "# load files\n",
    "pca_loaded = pickle.load(pca_file_pickle)\n",
    "model_loaded = pickle.load(model_file_pickle)\n",
    "\n",
    "# close files\n",
    "pca_file_pickle.close()\n",
    "model_file_pickle.close()"
   ]
  },
  {
   "cell_type": "code",
   "execution_count": 21,
   "metadata": {},
   "outputs": [
    {
     "data": {
      "text/plain": [
       "KNeighborsClassifier(algorithm='auto', leaf_size=30, metric='minkowski',\n",
       "           metric_params=None, n_jobs=1, n_neighbors=4, p=2,\n",
       "           weights='distance')"
      ]
     },
     "execution_count": 21,
     "metadata": {},
     "output_type": "execute_result"
    }
   ],
   "source": [
    "# print the model object description\n",
    "model_loaded"
   ]
  },
  {
   "cell_type": "code",
   "execution_count": 22,
   "metadata": {},
   "outputs": [
    {
     "data": {
      "text/plain": [
       "PCA(copy=True, iterated_power='auto', n_components=50, random_state=None,\n",
       "  svd_solver='auto', tol=0.0, whiten=False)"
      ]
     },
     "execution_count": 22,
     "metadata": {},
     "output_type": "execute_result"
    }
   ],
   "source": [
    "# print the pca object description\n",
    "pca_loaded"
   ]
  },
  {
   "cell_type": "code",
   "execution_count": 23,
   "metadata": {},
   "outputs": [
    {
     "name": "stdout",
     "output_type": "stream",
     "text": [
      "Persisted KNN (w/PCA) Accuracy: 0.974405\n"
     ]
    }
   ],
   "source": [
    "# transform the test data using loaded pca object\n",
    "X_test_pca = pca_loaded.transform(X_test)\n",
    "\n",
    "# calculate the score using the loaded model object\n",
    "# we should get 0.974405, as above\n",
    "print('Persisted KNN (w/PCA) Accuracy: ' + '{0:2f}'.format(model_loaded.score(X_test_pca, y_test)))"
   ]
  }
 ],
 "metadata": {
  "kernelspec": {
   "display_name": "Python 3",
   "language": "python",
   "name": "python3"
  },
  "language_info": {
   "codemirror_mode": {
    "name": "ipython",
    "version": 3
   },
   "file_extension": ".py",
   "mimetype": "text/x-python",
   "name": "python",
   "nbconvert_exporter": "python",
   "pygments_lexer": "ipython3",
   "version": "3.6.5"
  }
 },
 "nbformat": 4,
 "nbformat_minor": 2
}
