{
 "cells": [
  {
   "cell_type": "markdown",
   "metadata": {},
   "source": [
    "# Build KNN Classifier Models\n",
    "\n",
    "## Import Processed Data"
   ]
  },
  {
   "cell_type": "code",
   "execution_count": 1,
   "metadata": {},
   "outputs": [],
   "source": [
    "import pandas as pd\n",
    "from pathlib import Path\n",
    "import numpy as np\n",
    "from sklearn.externals import joblib\n",
    "from sklearn.decomposition import PCA\n",
    "from sklearn.neighbors import KNeighborsClassifier\n",
    "from sklearn.model_selection import cross_val_score\n",
    "from sklearn.model_selection import GridSearchCV"
   ]
  },
  {
   "cell_type": "code",
   "execution_count": 2,
   "metadata": {},
   "outputs": [],
   "source": [
    "# set path of the processed data\n",
    "processed_data_path = Path.cwd().parent / 'data' / 'processed'\n",
    "train_processed_file_path = processed_data_path /'train_processed.csv'\n",
    "test_processed_file_path = processed_data_path / 'test_processed.csv'\n",
    "unlabeled_processed_file_path = processed_data_path / 'unlabeled_processed.csv'\n",
    "\n",
    "# create data frames for train, test, and unlabled data\n",
    "train_df = pd.read_csv(train_processed_file_path, index_col = 'ImageId')\n",
    "test_df = pd.read_csv(test_processed_file_path, index_col = 'ImageId')\n",
    "unlabeled_df = pd.read_csv(unlabeled_processed_file_path, index_col = 'ImageId')"
   ]
  },
  {
   "cell_type": "code",
   "execution_count": 3,
   "metadata": {},
   "outputs": [],
   "source": [
    "# in the train and test data, X contains all the columns except 'label'\n",
    "# y is 'label'\n",
    "X_train = train_df.drop(['label'], axis = 1)\n",
    "y_train = train_df['label']\n",
    "X_test = test_df.drop(['label'], axis = 1)\n",
    "y_test = test_df['label']"
   ]
  },
  {
   "cell_type": "markdown",
   "metadata": {},
   "source": [
    "## PCA"
   ]
  },
  {
   "cell_type": "code",
   "execution_count": 4,
   "metadata": {},
   "outputs": [
    {
     "data": {
      "image/png": "[encoded data removed]",
      "text/plain": [
       "<Figure size 432x288 with 1 Axes>"
      ]
     },
     "metadata": {},
     "output_type": "display_data"
    }
   ],
   "source": [
    "# let's look at how explained variance ratio varies with number of components\n",
    "import matplotlib.pyplot as plt\n",
    "%matplotlib inline\n",
    "\n",
    "pca = PCA(random_state = 42)\n",
    "pca.fit(X_train)\n",
    "\n",
    "plt.plot(pca.explained_variance_ratio_)\n",
    "plt.xlabel('Number of Components')\n",
    "plt.ylabel('Explained Variance Ratio')\n",
    "plt.show()"
   ]
  },
  {
   "cell_type": "code",
   "execution_count": 5,
   "metadata": {},
   "outputs": [],
   "source": [
    "# it looks like we can get away with using about 50 components\n",
    "pca = PCA(n_components = 50,\n",
    "          random_state = 42).fit(X_train)\n",
    "X_train_pca = pca.transform(X_train)\n",
    "X_test_pca = pca.transform(X_test)\n",
    "unlabeled_pca = pca.transform(unlabeled_df)"
   ]
  },
  {
   "cell_type": "markdown",
   "metadata": {},
   "source": [
    "## Default KNN Classifier (with PCA)"
   ]
  },
  {
   "cell_type": "code",
   "execution_count": 6,
   "metadata": {},
   "outputs": [
    {
     "name": "stdout",
     "output_type": "stream",
     "text": [
      "CV accuracty mean: 0.970923\n",
      "CV accuracty std: 0.002330\n",
      "CV scores: [0.96862454 0.97455736 0.96844769 0.97246204 0.97052255]\n"
     ]
    }
   ],
   "source": [
    "# use 5-fold CV to evaluate accuracy with pca-train data\n",
    "model = KNeighborsClassifier()\n",
    "scores = cross_val_score(model, X_train_pca, y_train, cv = 5)\n",
    "\n",
    "print('CV accuracty mean: ' + '{0:2f}'.format(scores.mean()))\n",
    "print('CV accuracty std: ' + '{0:2f}'.format(scores.std()))\n",
    "print('CV scores:', scores)"
   ]
  },
  {
   "cell_type": "markdown",
   "metadata": {},
   "source": [
    "## Tuned KNN Classifier (with PCA)"
   ]
  },
  {
   "cell_type": "code",
   "execution_count": 7,
   "metadata": {},
   "outputs": [],
   "source": [
    "#\n",
    "#  SKIP THIS: TAKES TOO LONG ON MY LAPTOP\n",
    "#\n",
    "# define the parameter values that will be considered\n",
    "#num_of_neighbors = [3, 4, 5, 6, 7,]\n",
    "#weights = ['uniform', 'distance']\n",
    "#params = {'n_neighbors' : num_of_neighbors,\n",
    "#          'weights' : weights}\n",
    "\n",
    "# used to evaluate all possible combinations with 5-fold cross-validation\n",
    "#grid_search = GridSearchCV(KNeighborsClassifier(),\n",
    "#                           param_grid = params,\n",
    "#                           cv = 5,\n",
    "#                           refit = True,\n",
    "#                           return_train_score = True)\n",
    "\n",
    "# fit\n",
    "#grid_search.fit(X_train_pca, y_train)\n",
    "\n",
    "# return the optimal combo of parameters and its score\n",
    "#print(grid_search.best_params_, '\\n')\n",
    "#print(grid_search.best_score_)"
   ]
  },
  {
   "cell_type": "markdown",
   "metadata": {},
   "source": [
    "Because a decent grid search takes so much time on my laptop, I just set the hyperparameter values myself and recorded the CV scores. Here is the best combination I could find:"
   ]
  },
  {
   "cell_type": "code",
   "execution_count": 8,
   "metadata": {},
   "outputs": [
    {
     "name": "stdout",
     "output_type": "stream",
     "text": [
      "CV accuracty mean: 0.973363\n",
      "CV accuracty std: 0.002476\n",
      "CV scores: [0.97115242 0.97783068 0.97097782 0.97365287 0.97320232]\n"
     ]
    }
   ],
   "source": [
    "# use 5-fold CV to evaluate accuracy with pca-train data\n",
    "model = KNeighborsClassifier(n_neighbors = 4,\n",
    "                             weights = 'distance')\n",
    "scores = cross_val_score(model, X_train_pca, y_train, cv = 5)\n",
    "\n",
    "print('CV accuracty mean: ' + '{0:2f}'.format(scores.mean()))\n",
    "print('CV accuracty std: ' + '{0:2f}'.format(scores.std()))\n",
    "print('CV scores:', scores)"
   ]
  },
  {
   "cell_type": "markdown",
   "metadata": {},
   "source": [
    "## Kaggle Score: 0.97400\n",
    "\n",
    "Before we \"go live\" with this model (that is, submit its predictions to Kaggle), let's check how it performs on the test data, data that it has never seen and had no influence on its selection:"
   ]
  },
  {
   "cell_type": "code",
   "execution_count": 9,
   "metadata": {},
   "outputs": [
    {
     "name": "stdout",
     "output_type": "stream",
     "text": [
      "Tuned KNN (w/PCA) Accuracy: 0.974286\n"
     ]
    }
   ],
   "source": [
    "# fit model to entire train set\n",
    "model = KNeighborsClassifier(n_neighbors = 4,\n",
    "                             weights = 'distance').fit(X_train_pca, y_train)\n",
    "\n",
    "# evaluate accuracy on test set\n",
    "print('Tuned KNN (w/PCA) Accuracy: ' + '{0:2f}'.format(model.score(X_test_pca, y_test)))"
   ]
  },
  {
   "cell_type": "markdown",
   "metadata": {},
   "source": [
    "Looks good, make the submission to Kaggle."
   ]
  },
  {
   "cell_type": "code",
   "execution_count": 10,
   "metadata": {},
   "outputs": [],
   "source": [
    "# generate predictions\n",
    "predictions = model.predict(unlabeled_pca)\n",
    "\n",
    "# create a new data frame with two columns: ImageId and our predicted values for 'label'\n",
    "submission_df = pd.DataFrame({'ImageId' : unlabeled_df.index, 'label' : predictions})\n",
    "\n",
    "# write submission to disk...\n",
    "# first define path\n",
    "submission_file_path = Path.cwd().parent / 'data' / 'external' / 'knn_with_pca.csv'\n",
    "\n",
    "# create the .csv file\n",
    "# index is False since we don't want a third column\n",
    "submission_df.to_csv(submission_file_path, index = False)"
   ]
  },
  {
   "cell_type": "markdown",
   "metadata": {},
   "source": [
    "## Model Persistence"
   ]
  },
  {
   "cell_type": "code",
   "execution_count": 11,
   "metadata": {},
   "outputs": [],
   "source": [
    "# create file paths\n",
    "pca_file_path = Path.cwd().parent / 'models' / 'pca_50.pkl'\n",
    "model_file_path = Path.cwd().parent / 'models' / 'knn_model.pkl'"
   ]
  },
  {
   "cell_type": "code",
   "execution_count": 12,
   "metadata": {},
   "outputs": [],
   "source": [
    "# persist the model and pca\n",
    "joblib.dump(pca, pca_file_path);\n",
    "joblib.dump(model, model_file_path);"
   ]
  },
  {
   "cell_type": "markdown",
   "metadata": {},
   "source": [
    "#### Optional: Check the persisted model"
   ]
  },
  {
   "cell_type": "code",
   "execution_count": 13,
   "metadata": {},
   "outputs": [],
   "source": [
    "# create file paths\n",
    "pca_file_path = Path.cwd().parent / 'models' / 'pca_50.pkl'\n",
    "model_file_path = Path.cwd().parent / 'models' / 'knn_model.pkl'\n",
    "\n",
    "# load\n",
    "pca_loaded = joblib.load(pca_file_path)\n",
    "model_loaded = joblib.load(model_file_path)"
   ]
  },
  {
   "cell_type": "code",
   "execution_count": 14,
   "metadata": {},
   "outputs": [
    {
     "data": {
      "text/plain": [
       "KNeighborsClassifier(algorithm='auto', leaf_size=30, metric='minkowski',\n",
       "           metric_params=None, n_jobs=1, n_neighbors=4, p=2,\n",
       "           weights='distance')"
      ]
     },
     "execution_count": 14,
     "metadata": {},
     "output_type": "execute_result"
    }
   ],
   "source": [
    "# print the model object description\n",
    "model_loaded"
   ]
  },
  {
   "cell_type": "code",
   "execution_count": 15,
   "metadata": {},
   "outputs": [
    {
     "data": {
      "text/plain": [
       "PCA(copy=True, iterated_power='auto', n_components=50, random_state=42,\n",
       "  svd_solver='auto', tol=0.0, whiten=False)"
      ]
     },
     "execution_count": 15,
     "metadata": {},
     "output_type": "execute_result"
    }
   ],
   "source": [
    "# print the pca object description\n",
    "pca_loaded"
   ]
  },
  {
   "cell_type": "code",
   "execution_count": 16,
   "metadata": {},
   "outputs": [
    {
     "name": "stdout",
     "output_type": "stream",
     "text": [
      "Persisted KNN (w/PCA) Accuracy: 0.974286\n"
     ]
    }
   ],
   "source": [
    "# transform the test data using loaded pca object\n",
    "X_test_pca = pca_loaded.transform(X_test)\n",
    "\n",
    "# calculate the score using the loaded model object\n",
    "# we should get 0.974286, as above\n",
    "print('Persisted KNN (w/PCA) Accuracy: ' + '{0:2f}'.format(model_loaded.score(X_test_pca, y_test)))"
   ]
  },
  {
   "cell_type": "markdown",
   "metadata": {},
   "source": [
    "## Error Analysis"
   ]
  },
  {
   "cell_type": "code",
   "execution_count": 19,
   "metadata": {},
   "outputs": [],
   "source": [
    "# imports\n",
    "from sklearn.model_selection import cross_val_predict"
   ]
  },
  {
   "cell_type": "code",
   "execution_count": 20,
   "metadata": {},
   "outputs": [],
   "source": [
    "# instead of scoring, get the cross-validated estimates for each image\n",
    "y_train_pred = cross_val_predict(model, X_train_pca, y_train, cv = 5)"
   ]
  },
  {
   "cell_type": "code",
   "execution_count": 21,
   "metadata": {},
   "outputs": [
    {
     "name": "stdout",
     "output_type": "stream",
     "text": [
      "[[3284    2    3    0    0    2   11    1    1    2]\n",
      " [   0 3715    8    1    2    3    4    9    2    3]\n",
      " [  17    9 3241    6    2    0    6   46   11    4]\n",
      " [   1    7   23 3339    0   34    3   13   40   21]\n",
      " [   3   20    0    0 3149    0   11    6    1   68]\n",
      " [   6    3    2   23    1 2942   34    3    7   15]\n",
      " [   8    3    1    0    5   11 3278    0    3    0]\n",
      " [   1   26   14    1    9    1    0 3432    0   37]\n",
      " [   3   15    8   42   10   24   14    7 3102   25]\n",
      " [   7    5    6   21   29    7    3   38   11 3223]]\n"
     ]
    }
   ],
   "source": [
    "# now let's take a look at the confusion matrix to see\n",
    "# which actual labels (rows) do not match the predicted label (columns)\n",
    "from sklearn.metrics import confusion_matrix\n",
    "\n",
    "conf_mx = confusion_matrix(y_train, y_train_pred)\n",
    "print(np.matrix(conf_mx))"
   ]
  },
  {
   "cell_type": "code",
   "execution_count": 22,
   "metadata": {},
   "outputs": [
    {
     "data": {
      "image/png": "[encoded data removed]",
      "text/plain": [
       "<Figure size 288x288 with 1 Axes>"
      ]
     },
     "metadata": {},
     "output_type": "display_data"
    }
   ],
   "source": [
    "# color-coding might be easier to look at than a bunch of numbers:\n",
    "# the darker, the bigger the value; the whiter, the smaller the value\n",
    "plt.matshow(conf_mx, cmap = plt.cm.Blues);"
   ]
  },
  {
   "cell_type": "code",
   "execution_count": 23,
   "metadata": {},
   "outputs": [
    {
     "data": {
      "image/png": "[encoded data removed]",
      "text/plain": [
       "<Figure size 288x288 with 1 Axes>"
      ]
     },
     "metadata": {},
     "output_type": "display_data"
    }
   ],
   "source": [
    "# well, this just confirms that the model is very accurate, which we already know...\n",
    "# let's look at error rates by dividing by the number of images in each label (row sum)\n",
    "row_sums = conf_mx.sum(axis = 1, keepdims = True)\n",
    "norm_conf_mx = conf_mx / row_sums\n",
    "\n",
    "# we only want errors, so let's fill the diagonal with zeros\n",
    "np.fill_diagonal(norm_conf_mx, 0)\n",
    "\n",
    "# plot\n",
    "plt.matshow(norm_conf_mx, cmap = plt.cm.Blues);"
   ]
  },
  {
   "cell_type": "markdown",
   "metadata": {},
   "source": [
    "The biggest problem is that many 4s are mislabeled as 9s.\n",
    "\n",
    "Other problems: 3s and 8s (both directions), 5s are mislabeled as 6s, 3s and 5s (both directions), 7s and 9s (both directions)\n",
    "\n",
    "Possible remedies (future efforts):\n",
    "\n",
    "Add more images to the training set, not really an option for me...\n",
    "\n",
    "Preprocess to make features stand out more, e.g., closed loops (scikit-image, pillow, opencv)\n",
    "\n",
    "Compression: Rescale with a smaller number of values for each pixel (e.g., from 256 to 26)\n",
    "\n",
    "Translations, Rotations, scale: add in variations of each image OR preprocess so images are centered, not rotated, etc."
   ]
  },
  {
   "cell_type": "code",
   "execution_count": null,
   "metadata": {},
   "outputs": [],
   "source": []
  }
 ],
 "metadata": {
  "kernelspec": {
   "display_name": "Python 3",
   "language": "python",
   "name": "python3"
  },
  "language_info": {
   "codemirror_mode": {
    "name": "ipython",
    "version": 3
   },
   "file_extension": ".py",
   "mimetype": "text/x-python",
   "name": "python",
   "nbconvert_exporter": "python",
   "pygments_lexer": "ipython3",
   "version": "3.6.5"
  }
 },
 "nbformat": 4,
 "nbformat_minor": 2
}
