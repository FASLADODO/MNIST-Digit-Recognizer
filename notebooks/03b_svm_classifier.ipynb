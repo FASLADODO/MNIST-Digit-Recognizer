{
 "cells": [
  {
   "cell_type": "markdown",
   "metadata": {},
   "source": [
    "# Build SVM Classifier Models\n",
    "\n",
    "## Import Processed Data"
   ]
  },
  {
   "cell_type": "code",
   "execution_count": 1,
   "metadata": {},
   "outputs": [],
   "source": [
    "import pandas as pd\n",
    "from pathlib import Path\n",
    "import numpy as np\n",
    "from sklearn.externals import joblib\n",
    "from sklearn.decomposition import PCA\n",
    "from sklearn.model_selection import cross_val_score\n",
    "from sklearn.model_selection import GridSearchCV"
   ]
  },
  {
   "cell_type": "code",
   "execution_count": 2,
   "metadata": {},
   "outputs": [],
   "source": [
    "# set path of the processed data\n",
    "processed_data_path = Path.cwd().parent / 'data' / 'processed'\n",
    "train_processed_file_path = processed_data_path /'train_processed.csv'\n",
    "test_processed_file_path = processed_data_path / 'test_processed.csv'\n",
    "unlabeled_processed_file_path = processed_data_path / 'unlabeled_processed.csv'\n",
    "\n",
    "# create data frames for train, test, and unlabled data\n",
    "train_df = pd.read_csv(train_processed_file_path, index_col = 'ImageId')\n",
    "test_df = pd.read_csv(test_processed_file_path, index_col = 'ImageId')\n",
    "unlabeled_df = pd.read_csv(unlabeled_processed_file_path, index_col = 'ImageId')"
   ]
  },
  {
   "cell_type": "code",
   "execution_count": 3,
   "metadata": {},
   "outputs": [],
   "source": [
    "# in the train and test data, X contains all the columns except 'label'\n",
    "# y is 'label'\n",
    "X_train = train_df.drop(['label'], axis = 1)\n",
    "y_train = train_df['label']\n",
    "X_test = test_df.drop(['label'], axis = 1)\n",
    "y_test = test_df['label']"
   ]
  },
  {
   "cell_type": "markdown",
   "metadata": {},
   "source": [
    "## PCA"
   ]
  },
  {
   "cell_type": "code",
   "execution_count": 4,
   "metadata": {},
   "outputs": [
    {
     "data": {
      "image/png": "[encoded data removed]",
      "text/plain": [
       "<Figure size 432x288 with 1 Axes>"
      ]
     },
     "metadata": {},
     "output_type": "display_data"
    }
   ],
   "source": [
    "# let's look at how explained variance ratio varies with number of components\n",
    "import matplotlib.pyplot as plt\n",
    "%matplotlib inline\n",
    "\n",
    "pca = PCA(random_state = 42)\n",
    "pca.fit(X_train)\n",
    "\n",
    "plt.plot(pca.explained_variance_ratio_)\n",
    "plt.xlabel('Number of Components')\n",
    "plt.ylabel('Explained Variance Ratio')\n",
    "plt.show()"
   ]
  },
  {
   "cell_type": "code",
   "execution_count": 5,
   "metadata": {},
   "outputs": [],
   "source": [
    "# it looks like we can get away with using about 50 components\n",
    "pca = PCA(n_components = 50,\n",
    "          random_state = 42).fit(X_train)\n",
    "X_train_pca = pca.transform(X_train)\n",
    "X_test_pca = pca.transform(X_test)\n",
    "unlabeled_pca = pca.transform(unlabeled_df)"
   ]
  },
  {
   "cell_type": "markdown",
   "metadata": {},
   "source": [
    "## Default Linear SVM Classifier (with PCA)"
   ]
  },
  {
   "cell_type": "code",
   "execution_count": 6,
   "metadata": {},
   "outputs": [],
   "source": [
    "from sklearn.svm import LinearSVC"
   ]
  },
  {
   "cell_type": "code",
   "execution_count": 7,
   "metadata": {},
   "outputs": [
    {
     "name": "stdout",
     "output_type": "stream",
     "text": [
      "CV accuracty mean: 0.895774\n",
      "CV accuracty std: 0.002826\n",
      "CV scores: [0.89412639 0.89718792 0.89135288 0.89654659 0.89965759]\n"
     ]
    }
   ],
   "source": [
    "# use 5-fold CV to evaluate accuracy with pca-train data\n",
    "model = LinearSVC(random_state = 42)\n",
    "scores = cross_val_score(model, X_train_pca, y_train, cv = 5)\n",
    "\n",
    "print('CV accuracty mean: ' + '{0:2f}'.format(scores.mean()))\n",
    "print('CV accuracty std: ' + '{0:2f}'.format(scores.std()))\n",
    "print('CV scores:', scores)"
   ]
  },
  {
   "cell_type": "markdown",
   "metadata": {},
   "source": [
    "## RBF Kernel SVM Classifier (with PCA)"
   ]
  },
  {
   "cell_type": "code",
   "execution_count": 8,
   "metadata": {},
   "outputs": [],
   "source": [
    "from sklearn.svm import SVC"
   ]
  },
  {
   "cell_type": "code",
   "execution_count": 9,
   "metadata": {},
   "outputs": [
    {
     "name": "stdout",
     "output_type": "stream",
     "text": [
      "CV accuracty mean: 0.976607\n",
      "CV accuracty std: 0.001495\n",
      "CV scores: [0.97710037 0.97857462 0.97395446 0.97662995 0.97677535]\n"
     ]
    }
   ],
   "source": [
    "# use 5-fold CV to evaluate accuracy with pca-train data\n",
    "model = SVC(random_state = 42,\n",
    "            kernel = 'rbf',\n",
    "            probability = True)\n",
    "scores = cross_val_score(model, X_train_pca, y_train, cv = 5)\n",
    "\n",
    "print('CV accuracty mean: ' + '{0:2f}'.format(scores.mean()))\n",
    "print('CV accuracty std: ' + '{0:2f}'.format(scores.std()))\n",
    "print('CV scores:', scores)"
   ]
  },
  {
   "cell_type": "markdown",
   "metadata": {},
   "source": [
    "As with KNN, using GridSearchCV properly taxes my laptop to the limit. So I run small batches, which likely leads to a local min, but it's the best I can do in a reasonable amount of time."
   ]
  },
  {
   "cell_type": "code",
   "execution_count": 31,
   "metadata": {},
   "outputs": [
    {
     "name": "stdout",
     "output_type": "stream",
     "text": [
      "{'C': 7} \n",
      "\n",
      "0.9829166666666667\n"
     ]
    }
   ],
   "source": [
    "# define the parameter values that will be considered\n",
    "C_vals = [6, 7, 8, 9, 10, 11, 12]\n",
    "params = {'C' : C_vals}\n",
    "\n",
    "# used to evaluate all possible combinations with 5-fold cross-validation\n",
    "grid_search = GridSearchCV(SVC(random_state = 42,\n",
    "                               kernel = 'rbf',\n",
    "                               gamma = 0.05,\n",
    "                               probability = True),\n",
    "                           param_grid = params,\n",
    "                           cv = 5,\n",
    "                           refit = True,\n",
    "                           return_train_score = True)\n",
    "\n",
    "# fit\n",
    "grid_search.fit(X_train_pca, y_train)\n",
    "\n",
    "# return the optimal combo of parameters and its score\n",
    "print(grid_search.best_params_, '\\n')\n",
    "print(grid_search.best_score_)"
   ]
  },
  {
   "cell_type": "code",
   "execution_count": 32,
   "metadata": {},
   "outputs": [
    {
     "name": "stdout",
     "output_type": "stream",
     "text": [
      "CV accuracty mean: 0.982917\n",
      "CV accuracty std: 0.001313\n",
      "CV scores: [0.98260223 0.98497247 0.98258669 0.98094671 0.98347477]\n"
     ]
    }
   ],
   "source": [
    "# use 5-fold CV to evaluate accuracy with pca-train data\n",
    "model = SVC(random_state = 42,\n",
    "            kernel = 'rbf',\n",
    "            gamma = 0.05,\n",
    "            C = 7,\n",
    "            probability = True)\n",
    "scores = cross_val_score(model, X_train_pca, y_train, cv = 5)\n",
    "\n",
    "print('CV accuracty mean: ' + '{0:2f}'.format(scores.mean()))\n",
    "print('CV accuracty std: ' + '{0:2f}'.format(scores.std()))\n",
    "print('CV scores:', scores)"
   ]
  },
  {
   "cell_type": "markdown",
   "metadata": {},
   "source": [
    "## Kaggle Score: 0.98200\n",
    "\n",
    "Before we \"go live\" with this model (that is, submit its predictions to Kaggle), let's check how it performs on the test data, data that it has never seen and had no influence on its selection:"
   ]
  },
  {
   "cell_type": "code",
   "execution_count": 10,
   "metadata": {},
   "outputs": [
    {
     "name": "stdout",
     "output_type": "stream",
     "text": [
      "Tuned RBF Kernel SVC (w/PCA) Accuracy: 0.983929\n"
     ]
    }
   ],
   "source": [
    "# fit model to entire train set\n",
    "model = SVC(random_state = 42,\n",
    "            kernel = 'rbf',\n",
    "            gamma = 0.05,\n",
    "            C = 7,\n",
    "            probability = True).fit(X_train_pca, y_train)\n",
    "\n",
    "# evaluate accuracy on test set\n",
    "print('Tuned RBF Kernel SVC (w/PCA) Accuracy: ' + '{0:2f}'.format(model.score(X_test_pca, y_test)))"
   ]
  },
  {
   "cell_type": "markdown",
   "metadata": {},
   "source": [
    "Looks good, make the submission to Kaggle."
   ]
  },
  {
   "cell_type": "code",
   "execution_count": 34,
   "metadata": {},
   "outputs": [],
   "source": [
    "# generate predictions\n",
    "predictions = model.predict(unlabeled_pca)\n",
    "\n",
    "# create a new data frame with two columns: ImageId and our predicted values for 'label'\n",
    "submission_df = pd.DataFrame({'ImageId' : unlabeled_df.index, 'label' : predictions})\n",
    "\n",
    "# write submission to disk...\n",
    "# first define path\n",
    "submission_file_path = Path.cwd().parent / 'data' / 'external' / 'rbf_svc_with_pca.csv'\n",
    "\n",
    "# create the .csv file\n",
    "# index is False since we don't want a third column\n",
    "submission_df.to_csv(submission_file_path, index = False)"
   ]
  },
  {
   "cell_type": "markdown",
   "metadata": {},
   "source": [
    "## Model Persistence"
   ]
  },
  {
   "cell_type": "code",
   "execution_count": 11,
   "metadata": {},
   "outputs": [],
   "source": [
    "# Note: the PCA tool was persisted in the KNN notebook, so no need to do it again\n",
    "\n",
    "# create file paths\n",
    "model_file_path = Path.cwd().parent / 'models' / 'rbf_svc_model.pkl'\n",
    "\n",
    "# persist the model and pca\n",
    "joblib.dump(model, model_file_path);"
   ]
  },
  {
   "cell_type": "markdown",
   "metadata": {},
   "source": [
    "#### Optional: Check the persisted model"
   ]
  },
  {
   "cell_type": "code",
   "execution_count": 42,
   "metadata": {},
   "outputs": [],
   "source": [
    "# create file paths\n",
    "pca_file_path = Path.cwd().parent / 'models' / 'pca_50.pkl'\n",
    "model_file_path = Path.cwd().parent / 'models' / 'rbf_svc_model.pkl'\n",
    "\n",
    "# load\n",
    "pca_loaded = joblib.load(pca_file_path)\n",
    "model_loaded = joblib.load(model_file_path)"
   ]
  },
  {
   "cell_type": "code",
   "execution_count": 43,
   "metadata": {},
   "outputs": [
    {
     "data": {
      "text/plain": [
       "SVC(C=7, cache_size=200, class_weight=None, coef0=0.0,\n",
       "  decision_function_shape='ovr', degree=3, gamma=0.05, kernel='rbf',\n",
       "  max_iter=-1, probability=False, random_state=42, shrinking=True,\n",
       "  tol=0.001, verbose=False)"
      ]
     },
     "execution_count": 43,
     "metadata": {},
     "output_type": "execute_result"
    }
   ],
   "source": [
    "# print the model object description\n",
    "model_loaded"
   ]
  },
  {
   "cell_type": "code",
   "execution_count": 44,
   "metadata": {},
   "outputs": [
    {
     "data": {
      "text/plain": [
       "PCA(copy=True, iterated_power='auto', n_components=50, random_state=42,\n",
       "  svd_solver='auto', tol=0.0, whiten=False)"
      ]
     },
     "execution_count": 44,
     "metadata": {},
     "output_type": "execute_result"
    }
   ],
   "source": [
    "# print the pca object description\n",
    "pca_loaded"
   ]
  },
  {
   "cell_type": "code",
   "execution_count": 45,
   "metadata": {},
   "outputs": [
    {
     "name": "stdout",
     "output_type": "stream",
     "text": [
      "Persisted RBF Kernel SVC (w/PCA) Accuracy: 0.983929\n"
     ]
    }
   ],
   "source": [
    "# transform the test data using loaded pca object\n",
    "X_test_pca = pca_loaded.transform(X_test)\n",
    "\n",
    "# calculate the score using the loaded model object\n",
    "# we should get 0.983929, as above\n",
    "print('Persisted RBF Kernel SVC (w/PCA) Accuracy: ' + '{0:2f}'.format(model_loaded.score(X_test_pca, y_test)))"
   ]
  },
  {
   "cell_type": "markdown",
   "metadata": {},
   "source": [
    "## Error Analysis"
   ]
  },
  {
   "cell_type": "code",
   "execution_count": 46,
   "metadata": {},
   "outputs": [],
   "source": [
    "# imports\n",
    "from sklearn.model_selection import cross_val_predict"
   ]
  },
  {
   "cell_type": "code",
   "execution_count": 47,
   "metadata": {},
   "outputs": [],
   "source": [
    "# instead of scoring, get the cross-validated estimates for each image\n",
    "y_train_pred = cross_val_predict(model, X_train_pca, y_train, cv = 5)"
   ]
  },
  {
   "cell_type": "code",
   "execution_count": 48,
   "metadata": {},
   "outputs": [
    {
     "name": "stdout",
     "output_type": "stream",
     "text": [
      "[[3284    0    4    0    2    1    6    0    7    2]\n",
      " [   0 3712    7    5    3    1    2    8    5    4]\n",
      " [   6    2 3295    5    4    1    2   14   10    3]\n",
      " [   0    1   21 3401    0   24    2    5   17   10]\n",
      " [   3    4    2    0 3197    1    9    6    3   33]\n",
      " [   3    0    1   27    3 2976   14    1    4    7]\n",
      " [  11    1    2    0    5    8 3277    0    5    0]\n",
      " [   4   11   23    2    9    0    0 3447    3   22]\n",
      " [   2    4    8   15    6    9    4    5 3191    6]\n",
      " [   7    2    6   15   29    9    3   23   10 3246]]\n"
     ]
    }
   ],
   "source": [
    "# now let's take a look at the confusion matrix to see\n",
    "# which actual labels (rows) do not match the predicted label (columns)\n",
    "from sklearn.metrics import confusion_matrix\n",
    "\n",
    "conf_mx = confusion_matrix(y_train, y_train_pred)\n",
    "print(np.matrix(conf_mx))"
   ]
  },
  {
   "cell_type": "code",
   "execution_count": 49,
   "metadata": {},
   "outputs": [
    {
     "data": {
      "image/png": "[encoded data removed]",
      "text/plain": [
       "<Figure size 288x288 with 1 Axes>"
      ]
     },
     "metadata": {},
     "output_type": "display_data"
    }
   ],
   "source": [
    "# color-coding might be easier to look at than a bunch of numbers:\n",
    "# the darker, the bigger the value; the whiter, the smaller the value\n",
    "plt.matshow(conf_mx, cmap = plt.cm.Blues);"
   ]
  },
  {
   "cell_type": "code",
   "execution_count": 50,
   "metadata": {},
   "outputs": [
    {
     "data": {
      "image/png": "[encoded data removed]",
      "text/plain": [
       "<Figure size 288x288 with 1 Axes>"
      ]
     },
     "metadata": {},
     "output_type": "display_data"
    }
   ],
   "source": [
    "# well, this just confirms that the model is very accurate, which we already know...\n",
    "# let's look at error rates by dividing by the number of images in each label (row sum)\n",
    "row_sums = conf_mx.sum(axis = 1, keepdims = True)\n",
    "norm_conf_mx = conf_mx / row_sums\n",
    "\n",
    "# we only want errors, so let's fill the diagonal with zeros\n",
    "np.fill_diagonal(norm_conf_mx, 0)\n",
    "\n",
    "# plot\n",
    "plt.matshow(norm_conf_mx, cmap = plt.cm.Blues);"
   ]
  },
  {
   "cell_type": "markdown",
   "metadata": {},
   "source": [
    "As with KNN, the biggest problem is that many 4s are mislabeled as 9s. However, the mislabeling appears to be more symmetric with the SVC. For example, the following are pairs that are mislabeled in both directions: 4s and 9s, 7s and 9s, 3s and 5s, 3s and 8s, and 2s and 7s.\n",
    "\n",
    "Other problems: 3s are mislabeled as 2s, 5s are mislabeled as 6s, and 9s are mislabeled as 3s.\n",
    "\n",
    "Remedies include those mentioned in the KNN notebook. However, I think I might instead build a few more classifiers, then use ensemble techniques to (hopefully) increase accuracy beyond the current high score (0.98200)."
   ]
  },
  {
   "cell_type": "code",
   "execution_count": null,
   "metadata": {},
   "outputs": [],
   "source": []
  }
 ],
 "metadata": {
  "kernelspec": {
   "display_name": "Python 3",
   "language": "python",
   "name": "python3"
  },
  "language_info": {
   "codemirror_mode": {
    "name": "ipython",
    "version": 3
   },
   "file_extension": ".py",
   "mimetype": "text/x-python",
   "name": "python",
   "nbconvert_exporter": "python",
   "pygments_lexer": "ipython3",
   "version": "3.6.5"
  }
 },
 "nbformat": 4,
 "nbformat_minor": 2
}
