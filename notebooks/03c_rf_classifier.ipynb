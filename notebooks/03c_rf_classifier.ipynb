{
 "cells": [
  {
   "cell_type": "markdown",
   "metadata": {},
   "source": [
    "# Build Random Forest Classifier Models\n",
    "\n",
    "## Import Processed Data"
   ]
  },
  {
   "cell_type": "code",
   "execution_count": 1,
   "metadata": {},
   "outputs": [],
   "source": [
    "import pandas as pd\n",
    "from pathlib import Path\n",
    "import numpy as np\n",
    "from sklearn.externals import joblib\n",
    "from sklearn.decomposition import PCA\n",
    "from sklearn.ensemble import RandomForestClassifier\n",
    "from sklearn.model_selection import cross_val_score\n",
    "from sklearn.model_selection import GridSearchCV"
   ]
  },
  {
   "cell_type": "code",
   "execution_count": 2,
   "metadata": {},
   "outputs": [],
   "source": [
    "# set path of the processed data\n",
    "processed_data_path = Path.cwd().parent / 'data' / 'processed'\n",
    "train_processed_file_path = processed_data_path /'train_processed.csv'\n",
    "test_processed_file_path = processed_data_path / 'test_processed.csv'\n",
    "unlabeled_processed_file_path = processed_data_path / 'unlabeled_processed.csv'\n",
    "\n",
    "# create data frames for train, test, and unlabled data\n",
    "train_df = pd.read_csv(train_processed_file_path, index_col = 'ImageId')\n",
    "test_df = pd.read_csv(test_processed_file_path, index_col = 'ImageId')\n",
    "unlabeled_df = pd.read_csv(unlabeled_processed_file_path, index_col = 'ImageId')"
   ]
  },
  {
   "cell_type": "code",
   "execution_count": 3,
   "metadata": {},
   "outputs": [],
   "source": [
    "# in the train and test data, X contains all the columns except 'label'\n",
    "# y is 'label'\n",
    "X_train = train_df.drop(['label'], axis = 1)\n",
    "y_train = train_df['label']\n",
    "X_test = test_df.drop(['label'], axis = 1)\n",
    "y_test = test_df['label']"
   ]
  },
  {
   "cell_type": "markdown",
   "metadata": {},
   "source": [
    "## PCA"
   ]
  },
  {
   "cell_type": "code",
   "execution_count": 4,
   "metadata": {},
   "outputs": [
    {
     "data": {
      "image/png": "[encoded data removed]",
      "text/plain": [
       "<Figure size 432x288 with 1 Axes>"
      ]
     },
     "metadata": {},
     "output_type": "display_data"
    }
   ],
   "source": [
    "# let's look at how explained variance ratio varies with number of components\n",
    "import matplotlib.pyplot as plt\n",
    "%matplotlib inline\n",
    "\n",
    "pca = PCA(random_state = 42)\n",
    "pca.fit(X_train)\n",
    "\n",
    "plt.plot(pca.explained_variance_ratio_)\n",
    "plt.xlabel('Number of Components')\n",
    "plt.ylabel('Explained Variance Ratio')\n",
    "plt.show()"
   ]
  },
  {
   "cell_type": "code",
   "execution_count": 5,
   "metadata": {},
   "outputs": [],
   "source": [
    "# it looks like we can get away with using about 50 components\n",
    "pca = PCA(n_components = 50,\n",
    "          random_state = 42).fit(X_train)\n",
    "X_train_pca = pca.transform(X_train)\n",
    "X_test_pca = pca.transform(X_test)\n",
    "unlabeled_pca = pca.transform(unlabeled_df)"
   ]
  },
  {
   "cell_type": "markdown",
   "metadata": {},
   "source": [
    "## Default Random Forest Classifier (with PCA)"
   ]
  },
  {
   "cell_type": "code",
   "execution_count": 6,
   "metadata": {},
   "outputs": [
    {
     "name": "stdout",
     "output_type": "stream",
     "text": [
      "CV accuracty mean: 0.905954\n",
      "CV accuracty std: 0.004437\n",
      "CV scores: [0.90096654 0.9056688  0.90117577 0.9106877  0.91126991]\n"
     ]
    }
   ],
   "source": [
    "# use 5-fold CV to evaluate accuracy with pca-train data\n",
    "model = RandomForestClassifier(random_state = 42)\n",
    "scores = cross_val_score(model, X_train_pca, y_train, cv = 5)\n",
    "\n",
    "print('CV accuracty mean: ' + '{0:2f}'.format(scores.mean()))\n",
    "print('CV accuracty std: ' + '{0:2f}'.format(scores.std()))\n",
    "print('CV scores:', scores)"
   ]
  },
  {
   "cell_type": "markdown",
   "metadata": {},
   "source": [
    "## Tuned Random Forest Classifier (with PCA)\n",
    "\n",
    "Not a particularly sophisticated search for optimal parameters. I need to think more about the smorgasbord of options for tuning a random forest...in the meantime, tuning n_estimators is simple enough."
   ]
  },
  {
   "cell_type": "code",
   "execution_count": 7,
   "metadata": {},
   "outputs": [
    {
     "name": "stdout",
     "output_type": "stream",
     "text": [
      "{'n_estimators': 300} \n",
      "\n",
      "0.9474404761904762\n"
     ]
    }
   ],
   "source": [
    "# define the parameter values that will be considered\n",
    "num_of_estimators = [300, 350]\n",
    "params = {'n_estimators' : num_of_estimators}\n",
    "\n",
    "# used to evaluate all possible combinations with 5-fold cross-validation\n",
    "grid_search = GridSearchCV(RandomForestClassifier(random_state = 42),\n",
    "                           param_grid = params,\n",
    "                           cv = 5,\n",
    "                           refit = True,\n",
    "                           return_train_score = True)\n",
    "\n",
    "# fit\n",
    "grid_search.fit(X_train_pca, y_train)\n",
    "\n",
    "# return the optimal combo of parameters and its score\n",
    "print(grid_search.best_params_, '\\n')\n",
    "print(grid_search.best_score_)"
   ]
  },
  {
   "cell_type": "code",
   "execution_count": 8,
   "metadata": {},
   "outputs": [
    {
     "name": "stdout",
     "output_type": "stream",
     "text": [
      "CV accuracty mean: 0.947441\n",
      "CV accuracty std: 0.002863\n",
      "CV scores: [0.94557621 0.94881714 0.94284864 0.95087824 0.94908441]\n"
     ]
    }
   ],
   "source": [
    "# use 5-fold CV to evaluate accuracy with pca-train data\n",
    "model = RandomForestClassifier(random_state = 42,\n",
    "                               n_estimators = 300)\n",
    "scores = cross_val_score(model, X_train_pca, y_train, cv = 5)\n",
    "\n",
    "print('CV accuracty mean: ' + '{0:2f}'.format(scores.mean()))\n",
    "print('CV accuracty std: ' + '{0:2f}'.format(scores.std()))\n",
    "print('CV scores:', scores)"
   ]
  },
  {
   "cell_type": "code",
   "execution_count": 9,
   "metadata": {},
   "outputs": [
    {
     "name": "stdout",
     "output_type": "stream",
     "text": [
      "Tuned RF (w/PCA) Accuracy: 0.950952\n"
     ]
    }
   ],
   "source": [
    "# fit model to entire train set\n",
    "model = RandomForestClassifier(random_state = 42,\n",
    "                               n_estimators = 300).fit(X_train_pca, y_train)\n",
    "\n",
    "# evaluate accuracy on test set\n",
    "print('Tuned RF (w/PCA) Accuracy: ' + '{0:2f}'.format(model.score(X_test_pca, y_test)))"
   ]
  },
  {
   "cell_type": "markdown",
   "metadata": {},
   "source": [
    "## Model Persistence\n",
    "\n",
    "Probably not worth submitting RF predictions to Kaggle, but we might use this model in an ensemble later."
   ]
  },
  {
   "cell_type": "code",
   "execution_count": 10,
   "metadata": {},
   "outputs": [],
   "source": [
    "# Note: the PCA tool was persisted in the KNN notebook, so no need to do it again\n",
    "\n",
    "# create file paths\n",
    "model_file_path = Path.cwd().parent / 'models' / 'rf_model.pkl'\n",
    "\n",
    "# persist the model and pca\n",
    "joblib.dump(model, model_file_path);"
   ]
  },
  {
   "cell_type": "markdown",
   "metadata": {},
   "source": [
    "#### Optional: Check the persisted model"
   ]
  },
  {
   "cell_type": "code",
   "execution_count": 11,
   "metadata": {},
   "outputs": [],
   "source": [
    "# create file paths\n",
    "pca_file_path = Path.cwd().parent / 'models' / 'pca_50.pkl'\n",
    "model_file_path = Path.cwd().parent / 'models' / 'rf_model.pkl'\n",
    "\n",
    "# load\n",
    "pca_loaded = joblib.load(pca_file_path)\n",
    "model_loaded = joblib.load(model_file_path)"
   ]
  },
  {
   "cell_type": "code",
   "execution_count": 12,
   "metadata": {},
   "outputs": [
    {
     "data": {
      "text/plain": [
       "RandomForestClassifier(bootstrap=True, class_weight=None, criterion='gini',\n",
       "            max_depth=None, max_features='auto', max_leaf_nodes=None,\n",
       "            min_impurity_decrease=0.0, min_impurity_split=None,\n",
       "            min_samples_leaf=1, min_samples_split=2,\n",
       "            min_weight_fraction_leaf=0.0, n_estimators=300, n_jobs=1,\n",
       "            oob_score=False, random_state=42, verbose=0, warm_start=False)"
      ]
     },
     "execution_count": 12,
     "metadata": {},
     "output_type": "execute_result"
    }
   ],
   "source": [
    "# print the model object description\n",
    "model_loaded"
   ]
  },
  {
   "cell_type": "code",
   "execution_count": 13,
   "metadata": {},
   "outputs": [
    {
     "data": {
      "text/plain": [
       "PCA(copy=True, iterated_power='auto', n_components=50, random_state=42,\n",
       "  svd_solver='auto', tol=0.0, whiten=False)"
      ]
     },
     "execution_count": 13,
     "metadata": {},
     "output_type": "execute_result"
    }
   ],
   "source": [
    "# print the pca object description\n",
    "pca_loaded"
   ]
  },
  {
   "cell_type": "code",
   "execution_count": 14,
   "metadata": {},
   "outputs": [
    {
     "name": "stdout",
     "output_type": "stream",
     "text": [
      "Persisted RF (w/PCA) Accuracy: 0.950952\n"
     ]
    }
   ],
   "source": [
    "# transform the test data using loaded pca object\n",
    "X_test_pca = pca_loaded.transform(X_test)\n",
    "\n",
    "# calculate the score using the loaded model object\n",
    "# we should get 0.950952, as above\n",
    "print('Persisted RF (w/PCA) Accuracy: ' + '{0:2f}'.format(model_loaded.score(X_test_pca, y_test)))"
   ]
  },
  {
   "cell_type": "markdown",
   "metadata": {},
   "source": [
    "## Error Analysis"
   ]
  },
  {
   "cell_type": "code",
   "execution_count": 15,
   "metadata": {},
   "outputs": [],
   "source": [
    "# imports\n",
    "from sklearn.model_selection import cross_val_predict"
   ]
  },
  {
   "cell_type": "code",
   "execution_count": 16,
   "metadata": {},
   "outputs": [],
   "source": [
    "# instead of scoring, get the cross-validated estimates for each image\n",
    "y_train_pred = cross_val_predict(model, X_train_pca, y_train, cv = 5)"
   ]
  },
  {
   "cell_type": "code",
   "execution_count": 17,
   "metadata": {},
   "outputs": [
    {
     "name": "stdout",
     "output_type": "stream",
     "text": [
      "[[3238    0    5    4    5    7   33    3   10    1]\n",
      " [   0 3666   24   15    2    8   10    4   14    4]\n",
      " [  20    8 3138   42   23    4   14   30   59    4]\n",
      " [   8    5   49 3227    0   63   15   25   57   32]\n",
      " [   2   16   21    2 3068    3   26    7   15   98]\n",
      " [  16    0   12   63   22 2852   32    3   20   16]\n",
      " [  26    4   13    0    7   32 3220    0    7    0]\n",
      " [   5   23   43    5   23    0    1 3352   11   58]\n",
      " [   5   22   24   86   18   44   13   12 2998   28]\n",
      " [  16    8    7   58   78   11    3   59   35 3075]]\n"
     ]
    }
   ],
   "source": [
    "# now let's take a look at the confusion matrix to see\n",
    "# which actual labels (rows) do not match the predicted label (columns)\n",
    "from sklearn.metrics import confusion_matrix\n",
    "\n",
    "conf_mx = confusion_matrix(y_train, y_train_pred)\n",
    "print(np.matrix(conf_mx))"
   ]
  },
  {
   "cell_type": "code",
   "execution_count": 18,
   "metadata": {},
   "outputs": [
    {
     "data": {
      "image/png": "[encoded data removed]",
      "text/plain": [
       "<Figure size 288x288 with 1 Axes>"
      ]
     },
     "metadata": {},
     "output_type": "display_data"
    }
   ],
   "source": [
    "# color-coding might be easier to look at than a bunch of numbers:\n",
    "# the darker, the bigger the value; the whiter, the smaller the value\n",
    "plt.matshow(conf_mx, cmap = plt.cm.Blues);"
   ]
  },
  {
   "cell_type": "code",
   "execution_count": 19,
   "metadata": {},
   "outputs": [
    {
     "data": {
      "image/png": "[encoded data removed]",
      "text/plain": [
       "<Figure size 288x288 with 1 Axes>"
      ]
     },
     "metadata": {},
     "output_type": "display_data"
    }
   ],
   "source": [
    "# well, this just confirms that the model is very accurate, which we already know...\n",
    "# let's look at error rates by dividing by the number of images in each label (row sum)\n",
    "row_sums = conf_mx.sum(axis = 1, keepdims = True)\n",
    "norm_conf_mx = conf_mx / row_sums\n",
    "\n",
    "# we only want errors, so let's fill the diagonal with zeros\n",
    "np.fill_diagonal(norm_conf_mx, 0)\n",
    "\n",
    "# plot\n",
    "plt.matshow(norm_conf_mx, cmap = plt.cm.Blues);"
   ]
  },
  {
   "cell_type": "markdown",
   "metadata": {},
   "source": [
    "As with KNN and SVC, the biggest problem is that many 4s are mislabeled as 9s. The following are pairs that are mislabeled in both directions: 4s and 9s, 7s and 9s, 3s and 5s, 3s and 8s, and 2s and 3s.\n",
    "\n",
    "Other problems: 2s are mislabeled as 8s, 9s are mislabeled as 3s, 3s are mislabeled as 8s, and 8s are mislabeled as 5s.\n",
    "\n",
    "Remedies include those mentioned in the KNN notebook. However, I think I might instead build a few more classifiers, then use ensemble techniques to (hopefully) increase accuracy beyond the current high score (0.98200)."
   ]
  }
 ],
 "metadata": {
  "kernelspec": {
   "display_name": "Python 3",
   "language": "python",
   "name": "python3"
  },
  "language_info": {
   "codemirror_mode": {
    "name": "ipython",
    "version": 3
   },
   "file_extension": ".py",
   "mimetype": "text/x-python",
   "name": "python",
   "nbconvert_exporter": "python",
   "pygments_lexer": "ipython3",
   "version": "3.6.5"
  }
 },
 "nbformat": 4,
 "nbformat_minor": 2
}
