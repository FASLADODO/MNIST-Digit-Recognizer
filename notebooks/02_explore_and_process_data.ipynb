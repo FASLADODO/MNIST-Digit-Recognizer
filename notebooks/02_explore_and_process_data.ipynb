{
 "cells": [
  {
   "cell_type": "markdown",
   "metadata": {},
   "source": [
    "# Explore and Process Data\n",
    "\n",
    "## Import Raw Data"
   ]
  },
  {
   "cell_type": "code",
   "execution_count": 2,
   "metadata": {},
   "outputs": [],
   "source": [
    "# import useful libraries\n",
    "import pandas as pd\n",
    "import numpy as np\n",
    "import os\n",
    "from sklearn.model_selection import train_test_split\n",
    "\n",
    "# set the path of the raw data\n",
    "raw_data_path = os.path.join(os.path.pardir, 'data', 'raw')\n",
    "labeled_file_path = os.path.join(raw_data_path, 'train.csv')\n",
    "unlabeled_file_path = os.path.join(raw_data_path, 'test.csv')\n",
    "\n",
    "# read the data with all default parameters\n",
    "labeled_df = pd.read_csv(labeled_file_path, index_col = None)\n",
    "unlabeled_df = pd.read_csv(unlabeled_file_path, index_col = None)"
   ]
  },
  {
   "cell_type": "code",
   "execution_count": 2,
   "metadata": {},
   "outputs": [
    {
     "data": {
      "text/plain": [
       "False"
      ]
     },
     "execution_count": 2,
     "metadata": {},
     "output_type": "execute_result"
    }
   ],
   "source": [
    "# any null missing data?\n",
    "labeled_df.isnull().any().any() or unlabeled_df.isnull().any().any()"
   ]
  },
  {
   "cell_type": "markdown",
   "metadata": {},
   "source": [
    "## Remove columns with only one value"
   ]
  },
  {
   "cell_type": "code",
   "execution_count": 3,
   "metadata": {},
   "outputs": [
    {
     "name": "stdout",
     "output_type": "stream",
     "text": [
      "76 \n",
      " ['pixel0', 'pixel1', 'pixel2', 'pixel3', 'pixel4', 'pixel5', 'pixel6', 'pixel7', 'pixel8', 'pixel9', 'pixel10', 'pixel11', 'pixel16', 'pixel17', 'pixel18', 'pixel19', 'pixel20', 'pixel21', 'pixel22', 'pixel23', 'pixel24', 'pixel25', 'pixel26', 'pixel27', 'pixel28', 'pixel29', 'pixel30', 'pixel31', 'pixel52', 'pixel53', 'pixel54', 'pixel55', 'pixel56', 'pixel57', 'pixel82', 'pixel83', 'pixel84', 'pixel85', 'pixel111', 'pixel112', 'pixel139', 'pixel140', 'pixel141', 'pixel168', 'pixel196', 'pixel392', 'pixel420', 'pixel421', 'pixel448', 'pixel476', 'pixel532', 'pixel560', 'pixel644', 'pixel645', 'pixel671', 'pixel672', 'pixel673', 'pixel699', 'pixel700', 'pixel701', 'pixel727', 'pixel728', 'pixel729', 'pixel730', 'pixel731', 'pixel754', 'pixel755', 'pixel756', 'pixel757', 'pixel758', 'pixel759', 'pixel760', 'pixel780', 'pixel781', 'pixel782', 'pixel783']\n"
     ]
    }
   ],
   "source": [
    "# any columns with only a single value?\n",
    "no_var_cols = []\n",
    "for c in labeled_df.columns:\n",
    "    if labeled_df[c].nunique() == 1:\n",
    "        no_var_cols += [c]\n",
    "        \n",
    "print(len(no_var_cols), '\\n', no_var_cols)"
   ]
  },
  {
   "cell_type": "code",
   "execution_count": 4,
   "metadata": {},
   "outputs": [],
   "source": [
    "# great, we can drop approximately 10% of our columns\n",
    "labeled_df.drop(no_var_cols, axis = 1, inplace = True)\n",
    "unlabeled_df.drop(no_var_cols, axis = 1, inplace = True)"
   ]
  },
  {
   "cell_type": "markdown",
   "metadata": {},
   "source": [
    "## Look at column variance"
   ]
  },
  {
   "cell_type": "code",
   "execution_count": 5,
   "metadata": {},
   "outputs": [],
   "source": [
    "# let's look at the variance of each pixel column\n",
    "col_var = []\n",
    "for c in labeled_df.drop(['label'], axis = 1).columns:\n",
    "    col_var += [labeled_df[c].var()]"
   ]
  },
  {
   "cell_type": "code",
   "execution_count": 6,
   "metadata": {},
   "outputs": [
    {
     "name": "stdout",
     "output_type": "stream",
     "text": [
      "Populating the interactive namespace from numpy and matplotlib\n"
     ]
    },
    {
     "data": {
      "image/png": "[encoded data removed]",
      "text/plain": [
       "<Figure size 432x288 with 1 Axes>"
      ]
     },
     "metadata": {},
     "output_type": "display_data"
    }
   ],
   "source": [
    "# histogram of log10 of pixel variance\n",
    "%matplotlib inline\n",
    "%pylab inline\n",
    "\n",
    "import matplotlib.pyplot as plt\n",
    "\n",
    "plt.hist(log10(col_var))\n",
    "plt.grid()\n",
    "plt.show()"
   ]
  },
  {
   "cell_type": "markdown",
   "metadata": {},
   "source": [
    "Looks like there are many low-variance columns we could get rid of, but we'll deal with these later with dimensionality reduction techniques like PCA.\n",
    " \n",
    "## Rescale columns to 0-1"
   ]
  },
  {
   "cell_type": "code",
   "execution_count": 7,
   "metadata": {},
   "outputs": [],
   "source": [
    "# scale pixel values from 0-255 to 0-1\n",
    "labeled_df.iloc[:,1:] = labeled_df.iloc[:,1:].applymap(lambda x : x / 255)\n",
    "unlabeled_df.iloc[:,:] = unlabeled_df.iloc[:,:].applymap(lambda x : x / 255)"
   ]
  },
  {
   "cell_type": "markdown",
   "metadata": {},
   "source": [
    "## Add ImageId column"
   ]
  },
  {
   "cell_type": "code",
   "execution_count": 8,
   "metadata": {},
   "outputs": [],
   "source": [
    "# images do not have an ImageId column, so create and put it in front\n",
    "labeled_df['ImageId'] = labeled_df.index + 1\n",
    "columns = [column for column in labeled_df.columns if column != 'ImageId']\n",
    "columns = ['ImageId'] + columns\n",
    "labeled_df = labeled_df[columns]\n",
    "\n",
    "unlabeled_df['ImageId'] = unlabeled_df.index + 1\n",
    "columns = [column for column in unlabeled_df.columns if column != 'ImageId']\n",
    "columns = ['ImageId'] + columns\n",
    "unlabeled_df = unlabeled_df[columns]"
   ]
  },
  {
   "cell_type": "markdown",
   "metadata": {},
   "source": [
    "## Split Labeled Data into Train and Test Sets"
   ]
  },
  {
   "cell_type": "code",
   "execution_count": 9,
   "metadata": {},
   "outputs": [
    {
     "name": "stdout",
     "output_type": "stream",
     "text": [
      "(42000, 710)  =  (33600, 710)  +  (8400, 710)\n",
      "(28000, 709)\n"
     ]
    }
   ],
   "source": [
    "# train on 80%, test on 20%\n",
    "# stratify split based on 'label' column\n",
    "train_df, test_df = train_test_split(labeled_df,\n",
    "                                     test_size = 0.2,\n",
    "                                     random_state = 42,\n",
    "                                     stratify = labeled_df.label)\n",
    "print(labeled_df.shape, \" = \", train_df.shape, \" + \", test_df.shape)\n",
    "print(unlabeled_df.shape)"
   ]
  },
  {
   "cell_type": "code",
   "execution_count": 10,
   "metadata": {},
   "outputs": [
    {
     "name": "stdout",
     "output_type": "stream",
     "text": [
      "1    0.111518\n",
      "7    0.104792\n",
      "3    0.103601\n",
      "9    0.099702\n",
      "2    0.099464\n",
      "6    0.098482\n",
      "0    0.098393\n",
      "4    0.096964\n",
      "8    0.096726\n",
      "5    0.090357\n",
      "Name: label, dtype: float64 \n",
      "\n",
      "1    0.111548\n",
      "7    0.104762\n",
      "3    0.103571\n",
      "9    0.099762\n",
      "2    0.099405\n",
      "6    0.098571\n",
      "0    0.098333\n",
      "4    0.096905\n",
      "8    0.096786\n",
      "5    0.090357\n",
      "Name: label, dtype: float64\n"
     ]
    }
   ],
   "source": [
    "# make sure stratification is good\n",
    "print(train_df.label.value_counts() / len(train_df), '\\n')\n",
    "print(test_df.label.value_counts() / len(test_df))"
   ]
  },
  {
   "cell_type": "markdown",
   "metadata": {},
   "source": [
    "## Save Processed Data"
   ]
  },
  {
   "cell_type": "code",
   "execution_count": 11,
   "metadata": {},
   "outputs": [],
   "source": [
    "# define file paths\n",
    "processed_data_path = os.path.join(os.path.pardir, 'data', 'processed')\n",
    "write_train_processed_path = os.path.join(processed_data_path, 'train_processed.csv')\n",
    "write_test_processed_path = os.path.join(processed_data_path, 'test_processed.csv')\n",
    "write_unlabeled_processed_path = os.path.join(processed_data_path, 'unlabeled_processed.csv')"
   ]
  },
  {
   "cell_type": "code",
   "execution_count": 12,
   "metadata": {},
   "outputs": [],
   "source": [
    "# write files\n",
    "train_df.to_csv(write_train_processed_path, index = False)\n",
    "test_df.to_csv(write_test_processed_path, index = False)\n",
    "unlabeled_df.to_csv(write_unlabeled_processed_path, index = False)"
   ]
  },
  {
   "cell_type": "markdown",
   "metadata": {},
   "source": [
    "## Script for processing data"
   ]
  },
  {
   "cell_type": "code",
   "execution_count": 3,
   "metadata": {},
   "outputs": [],
   "source": [
    "# create path to the data subfolder of the src folder\n",
    "# script file name will be 'process_raw_data.py'\n",
    "process_raw_data_script_file = os.path.join(os.path.pardir, 'src', 'data', 'process_raw_data.py')"
   ]
  },
  {
   "cell_type": "markdown",
   "metadata": {},
   "source": [
    "In the next block, write and save the script for future use."
   ]
  },
  {
   "cell_type": "code",
   "execution_count": 4,
   "metadata": {},
   "outputs": [
    {
     "name": "stdout",
     "output_type": "stream",
     "text": [
      "Overwriting ../src/data/process_raw_data.py\n"
     ]
    }
   ],
   "source": [
    "%%writefile $process_raw_data_script_file\n",
    "import pandas as pd\n",
    "import numpy as np\n",
    "import os\n",
    "from sklearn.model_selection import train_test_split\n",
    "import logging # log intermediate steps that have been completed\n",
    "\n",
    "                \n",
    "# main function, requires the project directory path\n",
    "def main(project_dir):\n",
    "    # get logger\n",
    "    logger = logging.getLogger(__name__)\n",
    "    logger.info('processing raw data')\n",
    "    \n",
    "    # set the path of the raw data\n",
    "    raw_data_path = os.path.join(os.path.pardir, 'data', 'raw')\n",
    "    labeled_file_path = os.path.join(raw_data_path, 'train.csv')\n",
    "    unlabeled_file_path = os.path.join(raw_data_path, 'test.csv')\n",
    "\n",
    "    # read the data with all default parameters\n",
    "    labeled_df = pd.read_csv(labeled_file_path, index_col = None)\n",
    "    unlabeled_df = pd.read_csv(unlabeled_file_path, index_col = None)\n",
    "    logger.info('raw data has been retrieved')\n",
    "    \n",
    "    # drop columns with only a single value\n",
    "    for c in labeled_df.columns:\n",
    "        if labeled_df[c].nunique() == 1:\n",
    "            labeled_df.drop([c], axis = 1, inplace = True)\n",
    "            unlabeled_df.drop([c], axis = 1, inplace = True)\n",
    "    logger.info('variance zero columns dropped')\n",
    "    \n",
    "    # rescale columns from 0-255 to 0-1\n",
    "    labeled_df.iloc[:,1:] = labeled_df.iloc[:,1:].applymap(lambda x : x / 255)\n",
    "    unlabeled_df.iloc[:,:] = unlabeled_df.iloc[:,:].applymap(lambda x : x / 255)\n",
    "    logger.info('columns scaled to 0-1')\n",
    "    \n",
    "    # add ImageId column, reorder so it's first\n",
    "    labeled_df['ImageId'] = labeled_df.index + 1\n",
    "    columns = [column for column in labeled_df.columns if column != 'ImageId']\n",
    "    columns = ['ImageId'] + columns\n",
    "    labeled_df = labeled_df[columns]\n",
    "\n",
    "    unlabeled_df['ImageId'] = unlabeled_df.index + 1\n",
    "    columns = [column for column in unlabeled_df.columns if column != 'ImageId']\n",
    "    columns = ['ImageId'] + columns\n",
    "    unlabeled_df = unlabeled_df[columns]\n",
    "    logger.info('ImageId column added to the front')\n",
    "    \n",
    "    # 80-20 train-test split, stratify split based on 'label' column\n",
    "    train_df, test_df = train_test_split(labeled_df,\n",
    "                                         test_size = 0.2,\n",
    "                                         random_state = 42,\n",
    "                                         stratify = labeled_df.label)\n",
    "    logger.info('performed 50-50 train-test split')\n",
    "    \n",
    "    # define file paths for processed data\n",
    "    processed_data_path = os.path.join(os.path.pardir, 'data', 'processed')\n",
    "    write_train_processed_path = os.path.join(processed_data_path, 'train_processed.csv')\n",
    "    write_test_processed_path = os.path.join(processed_data_path, 'test_processed.csv')\n",
    "    write_unlabeled_processed_path = os.path.join(processed_data_path, 'unlabeled_processed.csv')\n",
    "    \n",
    "    # write processed data to files\n",
    "    train_df.to_csv(write_train_processed_path, index = False)\n",
    "    test_df.to_csv(write_test_processed_path, index = False)\n",
    "    unlabeled_df.to_csv(write_unlabeled_processed_path, index = False)\n",
    "    logger.info('processed data written to files')\n",
    "    \n",
    "    \n",
    "    \n",
    "if __name__ == '__main__':\n",
    "    # getting script file name and append parent directory twice\n",
    "    # helps to move two levels up since path is /digit_recognizer/src/data\n",
    "    project_dir = os.path.join(os.path.dirname(__file__), os.pardir, os.pardir)\n",
    "    \n",
    "    # set up logger\n",
    "    log_fmt = '%(asctime)s - %(name)s - %(levelname)s - %(message)s'\n",
    "    logging.basicConfig(level = logging.INFO, format = log_fmt)\n",
    "    \n",
    "    # call main function\n",
    "    main(project_dir)"
   ]
  },
  {
   "cell_type": "markdown",
   "metadata": {},
   "source": [
    "Run the script"
   ]
  },
  {
   "cell_type": "code",
   "execution_count": 5,
   "metadata": {},
   "outputs": [
    {
     "name": "stdout",
     "output_type": "stream",
     "text": [
      "2018-08-09 16:19:02,366 - __main__ - INFO - processing raw data\n",
      "2018-08-09 16:19:12,940 - __main__ - INFO - raw data has been retrieved\n",
      "2018-08-09 16:19:40,686 - __main__ - INFO - variance zero columns dropped\n",
      "2018-08-09 16:21:33,761 - __main__ - INFO - columns scaled to 0-1\n",
      "2018-08-09 16:21:35,483 - __main__ - INFO - ImageId column added to the front\n",
      "2018-08-09 16:21:35,830 - __main__ - INFO - performed 50-50 train-test split\n",
      "2018-08-09 16:22:51,623 - __main__ - INFO - processed data written to files\n"
     ]
    }
   ],
   "source": [
    "!python $process_raw_data_script_file"
   ]
  }
 ],
 "metadata": {
  "kernelspec": {
   "display_name": "Python 3",
   "language": "python",
   "name": "python3"
  },
  "language_info": {
   "codemirror_mode": {
    "name": "ipython",
    "version": 3
   },
   "file_extension": ".py",
   "mimetype": "text/x-python",
   "name": "python",
   "nbconvert_exporter": "python",
   "pygments_lexer": "ipython3",
   "version": "3.6.5"
  }
 },
 "nbformat": 4,
 "nbformat_minor": 2
}
