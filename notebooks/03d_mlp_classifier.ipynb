{
 "cells": [
  {
   "cell_type": "markdown",
   "metadata": {},
   "source": [
    "# Build MLP Classifier Models\n",
    "\n",
    "## Import Processed Data"
   ]
  },
  {
   "cell_type": "code",
   "execution_count": 1,
   "metadata": {},
   "outputs": [],
   "source": [
    "import pandas as pd\n",
    "from pathlib import Path\n",
    "import numpy as np\n",
    "from sklearn.externals import joblib\n",
    "from sklearn.decomposition import PCA\n",
    "from sklearn.neural_network import MLPClassifier\n",
    "from sklearn.model_selection import cross_val_score\n",
    "from sklearn.model_selection import GridSearchCV"
   ]
  },
  {
   "cell_type": "code",
   "execution_count": 2,
   "metadata": {},
   "outputs": [],
   "source": [
    "# set path of the processed data\n",
    "processed_data_path = Path.cwd().parent / 'data' / 'processed'\n",
    "train_processed_file_path = processed_data_path /'train_processed.csv'\n",
    "test_processed_file_path = processed_data_path / 'test_processed.csv'\n",
    "unlabeled_processed_file_path = processed_data_path / 'unlabeled_processed.csv'\n",
    "\n",
    "# create data frames for train, test, and unlabled data\n",
    "train_df = pd.read_csv(train_processed_file_path, index_col = 'ImageId')\n",
    "test_df = pd.read_csv(test_processed_file_path, index_col = 'ImageId')\n",
    "unlabeled_df = pd.read_csv(unlabeled_processed_file_path, index_col = 'ImageId')"
   ]
  },
  {
   "cell_type": "code",
   "execution_count": 3,
   "metadata": {},
   "outputs": [],
   "source": [
    "# in the train and test data, X contains all the columns except 'label'\n",
    "# y is 'label'\n",
    "X_train = train_df.drop(['label'], axis = 1)\n",
    "y_train = train_df['label']\n",
    "X_test = test_df.drop(['label'], axis = 1)\n",
    "y_test = test_df['label']"
   ]
  },
  {
   "cell_type": "markdown",
   "metadata": {},
   "source": [
    "## PCA"
   ]
  },
  {
   "cell_type": "code",
   "execution_count": 4,
   "metadata": {},
   "outputs": [
    {
     "data": {
      "image/png": "[encoded data removed]",
      "text/plain": [
       "<Figure size 432x288 with 1 Axes>"
      ]
     },
     "metadata": {},
     "output_type": "display_data"
    }
   ],
   "source": [
    "# let's look at how explained variance ratio varies with number of components\n",
    "import matplotlib.pyplot as plt\n",
    "%matplotlib inline\n",
    "\n",
    "pca = PCA(random_state = 42)\n",
    "pca.fit(X_train)\n",
    "\n",
    "plt.plot(pca.explained_variance_ratio_)\n",
    "plt.xlabel('Number of Components')\n",
    "plt.ylabel('Explained Variance Ratio')\n",
    "plt.show()"
   ]
  },
  {
   "cell_type": "code",
   "execution_count": 5,
   "metadata": {},
   "outputs": [],
   "source": [
    "# it looks like we can get away with using about 50 components\n",
    "pca = PCA(n_components = 50,\n",
    "          random_state = 42).fit(X_train)\n",
    "X_train_pca = pca.transform(X_train)\n",
    "X_test_pca = pca.transform(X_test)\n",
    "unlabeled_pca = pca.transform(unlabeled_df)"
   ]
  },
  {
   "cell_type": "markdown",
   "metadata": {},
   "source": [
    "## Default MLP Classifier (with PCA)"
   ]
  },
  {
   "cell_type": "code",
   "execution_count": 6,
   "metadata": {},
   "outputs": [
    {
     "name": "stdout",
     "output_type": "stream",
     "text": [
      "CV accuracty mean: 0.971667\n",
      "CV accuracty std: 0.002206\n",
      "CV scores: [0.96981413 0.97559887 0.96948951 0.97112236 0.97230907]\n"
     ]
    }
   ],
   "source": [
    "# use 5-fold CV to evaluate accuracy with pca-train data\n",
    "model = MLPClassifier(random_state = 42)\n",
    "scores = cross_val_score(model, X_train_pca, y_train, cv = 5)\n",
    "\n",
    "print('CV accuracty mean: ' + '{0:2f}'.format(scores.mean()))\n",
    "print('CV accuracty std: ' + '{0:2f}'.format(scores.std()))\n",
    "print('CV scores:', scores)"
   ]
  },
  {
   "cell_type": "code",
   "execution_count": 7,
   "metadata": {},
   "outputs": [
    {
     "name": "stdout",
     "output_type": "stream",
     "text": [
      "Default MLP (w/PCA) Accuracy: 0.974286\n"
     ]
    }
   ],
   "source": [
    "# fit model to entire train set\n",
    "model = MLPClassifier(random_state = 42).fit(X_train_pca, y_train)\n",
    "\n",
    "# evaluate accuracy on test set\n",
    "print('Default MLP (w/PCA) Accuracy: ' + '{0:2f}'.format(model.score(X_test_pca, y_test)))"
   ]
  },
  {
   "cell_type": "markdown",
   "metadata": {},
   "source": [
    "## Tuned MLP Classifier (with PCA)\n",
    "\n",
    "Once again, a decent search takes too long on my laptop, so I did several batches \"by hand.\""
   ]
  },
  {
   "cell_type": "code",
   "execution_count": 19,
   "metadata": {},
   "outputs": [
    {
     "name": "stdout",
     "output_type": "stream",
     "text": [
      "{'hidden_layer_sizes': (400,)} \n",
      "\n",
      "0.9787797619047619\n"
     ]
    }
   ],
   "source": [
    "# define the parameter values that will be considered\n",
    "sizes = [(400,), (300, 100,)]\n",
    "params = {'hidden_layer_sizes' : sizes}\n",
    "\n",
    "# used to evaluate all possible combinations with 5-fold cross-validation\n",
    "grid_search = GridSearchCV(MLPClassifier(random_state = 42),\n",
    "                           param_grid = params,\n",
    "                           cv = 5,\n",
    "                           refit = True,\n",
    "                           return_train_score = True)\n",
    "\n",
    "# fit\n",
    "grid_search.fit(X_train_pca, y_train)\n",
    "\n",
    "# return the optimal combo of parameters and its score\n",
    "print(grid_search.best_params_, '\\n')\n",
    "print(grid_search.best_score_)"
   ]
  },
  {
   "cell_type": "code",
   "execution_count": 20,
   "metadata": {},
   "outputs": [
    {
     "name": "stdout",
     "output_type": "stream",
     "text": [
      "CV accuracty mean: 0.978779\n",
      "CV accuracty std: 0.001771\n",
      "CV scores: [0.97947955 0.98169915 0.97633576 0.97811849 0.97826411]\n"
     ]
    }
   ],
   "source": [
    "# use 5-fold CV to evaluate accuracy with pca-train data\n",
    "model = MLPClassifier(random_state = 42,\n",
    "                      hidden_layer_sizes = (400,))\n",
    "scores = cross_val_score(model, X_train_pca, y_train, cv = 5)\n",
    "\n",
    "print('CV accuracty mean: ' + '{0:2f}'.format(scores.mean()))\n",
    "print('CV accuracty std: ' + '{0:2f}'.format(scores.std()))\n",
    "print('CV scores:', scores)"
   ]
  },
  {
   "cell_type": "markdown",
   "metadata": {},
   "source": [
    "## Kaggle Score: 0.97928\n",
    "\n",
    "Before we \"go live\" with this model (that is, submit its predictions to Kaggle), let's check how it performs on the test data, data that it has never seen and had no influence on its selection:"
   ]
  },
  {
   "cell_type": "code",
   "execution_count": 21,
   "metadata": {},
   "outputs": [
    {
     "name": "stdout",
     "output_type": "stream",
     "text": [
      "Tuned MLP (w/PCA) Accuracy: 0.979881\n"
     ]
    }
   ],
   "source": [
    "# fit model to entire train set\n",
    "model = MLPClassifier(random_state = 42,\n",
    "                      hidden_layer_sizes = (400,)).fit(X_train_pca, y_train)\n",
    "\n",
    "# evaluate accuracy on test set\n",
    "print('Tuned MLP (w/PCA) Accuracy: ' + '{0:2f}'.format(model.score(X_test_pca, y_test)))"
   ]
  },
  {
   "cell_type": "markdown",
   "metadata": {},
   "source": [
    "Looks good, make the submission to Kaggle."
   ]
  },
  {
   "cell_type": "code",
   "execution_count": 22,
   "metadata": {},
   "outputs": [],
   "source": [
    "# generate predictions\n",
    "predictions = model.predict(unlabeled_pca)\n",
    "\n",
    "# create a new data frame with two columns: ImageId and our predicted values for 'label'\n",
    "submission_df = pd.DataFrame({'ImageId' : unlabeled_df.index, 'label' : predictions})\n",
    "\n",
    "# write submission to disk...\n",
    "# first define path\n",
    "submission_file_path = Path.cwd().parent / 'data' / 'external' / 'mlp_with_pca.csv'\n",
    "\n",
    "# create the .csv file\n",
    "# index is False since we don't want a third column\n",
    "submission_df.to_csv(submission_file_path, index = False)"
   ]
  },
  {
   "cell_type": "markdown",
   "metadata": {},
   "source": [
    "## Model Persistence"
   ]
  },
  {
   "cell_type": "code",
   "execution_count": 23,
   "metadata": {},
   "outputs": [],
   "source": [
    "# Note: the PCA tool was persisted in the KNN notebook, so no need to do it again\n",
    "\n",
    "# create file paths\n",
    "model_file_path = Path.cwd().parent / 'models' / 'mlp_model.pkl'\n",
    "\n",
    "# persist the model and pca\n",
    "joblib.dump(model, model_file_path);"
   ]
  },
  {
   "cell_type": "markdown",
   "metadata": {},
   "source": [
    "#### Optional: Check the persisted model"
   ]
  },
  {
   "cell_type": "code",
   "execution_count": 24,
   "metadata": {},
   "outputs": [],
   "source": [
    "# create file paths\n",
    "pca_file_path = Path.cwd().parent / 'models' / 'pca_50.pkl'\n",
    "model_file_path = Path.cwd().parent / 'models' / 'mlp_model.pkl'\n",
    "\n",
    "# load\n",
    "pca_loaded = joblib.load(pca_file_path)\n",
    "model_loaded = joblib.load(model_file_path)"
   ]
  },
  {
   "cell_type": "code",
   "execution_count": 25,
   "metadata": {},
   "outputs": [
    {
     "data": {
      "text/plain": [
       "MLPClassifier(activation='relu', alpha=0.0001, batch_size='auto', beta_1=0.9,\n",
       "       beta_2=0.999, early_stopping=False, epsilon=1e-08,\n",
       "       hidden_layer_sizes=(400,), learning_rate='constant',\n",
       "       learning_rate_init=0.001, max_iter=200, momentum=0.9,\n",
       "       nesterovs_momentum=True, power_t=0.5, random_state=42, shuffle=True,\n",
       "       solver='adam', tol=0.0001, validation_fraction=0.1, verbose=False,\n",
       "       warm_start=False)"
      ]
     },
     "execution_count": 25,
     "metadata": {},
     "output_type": "execute_result"
    }
   ],
   "source": [
    "# print the model object description\n",
    "model_loaded"
   ]
  },
  {
   "cell_type": "code",
   "execution_count": 26,
   "metadata": {},
   "outputs": [
    {
     "data": {
      "text/plain": [
       "PCA(copy=True, iterated_power='auto', n_components=50, random_state=42,\n",
       "  svd_solver='auto', tol=0.0, whiten=False)"
      ]
     },
     "execution_count": 26,
     "metadata": {},
     "output_type": "execute_result"
    }
   ],
   "source": [
    "# print the pca object description\n",
    "pca_loaded"
   ]
  },
  {
   "cell_type": "code",
   "execution_count": 27,
   "metadata": {},
   "outputs": [
    {
     "name": "stdout",
     "output_type": "stream",
     "text": [
      "Persisted MLP (w/PCA) Accuracy: 0.979881\n"
     ]
    }
   ],
   "source": [
    "# transform the test data using loaded pca object\n",
    "X_test_pca = pca_loaded.transform(X_test)\n",
    "\n",
    "# calculate the score using the loaded model object\n",
    "# we should get 0.979881, as above\n",
    "print('Persisted MLP (w/PCA) Accuracy: ' + '{0:2f}'.format(model_loaded.score(X_test_pca, y_test)))"
   ]
  },
  {
   "cell_type": "markdown",
   "metadata": {},
   "source": [
    "## Error Analysis"
   ]
  },
  {
   "cell_type": "code",
   "execution_count": 29,
   "metadata": {},
   "outputs": [],
   "source": [
    "# imports\n",
    "from sklearn.model_selection import cross_val_predict"
   ]
  },
  {
   "cell_type": "code",
   "execution_count": 30,
   "metadata": {},
   "outputs": [],
   "source": [
    "# instead of scoring, get the cross-validated estimates for each image\n",
    "y_train_pred = cross_val_predict(model, X_train_pca, y_train, cv = 5)"
   ]
  },
  {
   "cell_type": "code",
   "execution_count": 31,
   "metadata": {},
   "outputs": [
    {
     "name": "stdout",
     "output_type": "stream",
     "text": [
      "[[3267    1    2    2    1    5   13    2   11    2]\n",
      " [   0 3707   10    3    6    0    2    8   10    1]\n",
      " [   6    6 3273   10    9    0    4   17   13    4]\n",
      " [   4    2   28 3379    0   28    1    7   19   13]\n",
      " [   4    7    6    2 3182    3   15    6    3   30]\n",
      " [   5    2    3   25    1 2963   14    3   10   10]\n",
      " [  12    2    5    0    8   13 3265    0    4    0]\n",
      " [   7   10   24    5    6    1    1 3440    5   22]\n",
      " [   4   10   14   17    7   10    5    7 3159   17]\n",
      " [   8    2    5   14   27    8    4   20   10 3252]]\n"
     ]
    }
   ],
   "source": [
    "# now let's take a look at the confusion matrix to see\n",
    "# which actual labels (rows) do not match the predicted label (columns)\n",
    "from sklearn.metrics import confusion_matrix\n",
    "\n",
    "conf_mx = confusion_matrix(y_train, y_train_pred)\n",
    "print(np.matrix(conf_mx))"
   ]
  },
  {
   "cell_type": "code",
   "execution_count": 32,
   "metadata": {},
   "outputs": [
    {
     "data": {
      "image/png": "[encoded data removed]",
      "text/plain": [
       "<Figure size 288x288 with 1 Axes>"
      ]
     },
     "metadata": {},
     "output_type": "display_data"
    }
   ],
   "source": [
    "# color-coding might be easier to look at than a bunch of numbers:\n",
    "# the darker, the bigger the value; the whiter, the smaller the value\n",
    "plt.matshow(conf_mx, cmap = plt.cm.Blues);"
   ]
  },
  {
   "cell_type": "code",
   "execution_count": 33,
   "metadata": {},
   "outputs": [
    {
     "data": {
      "image/png": "[encoded data removed]",
      "text/plain": [
       "<Figure size 288x288 with 1 Axes>"
      ]
     },
     "metadata": {},
     "output_type": "display_data"
    }
   ],
   "source": [
    "# well, this just confirms that the model is very accurate, which we already know...\n",
    "# let's look at error rates by dividing by the number of images in each label (row sum)\n",
    "row_sums = conf_mx.sum(axis = 1, keepdims = True)\n",
    "norm_conf_mx = conf_mx / row_sums\n",
    "\n",
    "# we only want errors, so let's fill the diagonal with zeros\n",
    "np.fill_diagonal(norm_conf_mx, 0)\n",
    "\n",
    "# plot\n",
    "plt.matshow(norm_conf_mx, cmap = plt.cm.Blues);"
   ]
  },
  {
   "cell_type": "markdown",
   "metadata": {},
   "source": [
    "As with the other models we've considered, the biggest problem is that many 4s are mislabeled as 9s. The following are pairs that are mislabeled in both directions: 4s and 9s, 7s and 9s, 3s and 9s, 3s and 8s, 2s and 7s, and 3s and 5s.\n",
    "\n",
    "Other problems: 8s are mislabeled as 9s, and 3s are mislabeled as 2s.\n",
    "\n",
    "Remedies include those mentioned in the KNN notebook. However, I think I might instead build a few more classifiers, then use ensemble techniques to (hopefully) increase accuracy beyond the current high score (0.98200)."
   ]
  },
  {
   "cell_type": "code",
   "execution_count": null,
   "metadata": {},
   "outputs": [],
   "source": []
  }
 ],
 "metadata": {
  "kernelspec": {
   "display_name": "Python 3",
   "language": "python",
   "name": "python3"
  },
  "language_info": {
   "codemirror_mode": {
    "name": "ipython",
    "version": 3
   },
   "file_extension": ".py",
   "mimetype": "text/x-python",
   "name": "python",
   "nbconvert_exporter": "python",
   "pygments_lexer": "ipython3",
   "version": "3.6.5"
  }
 },
 "nbformat": 4,
 "nbformat_minor": 2
}
